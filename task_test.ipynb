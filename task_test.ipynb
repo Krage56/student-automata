{
 "cells": [
  {
   "cell_type": "code",
   "execution_count": null,
   "id": "900b2dc7-e89c-4b7a-b2c1-87a49f5b00b8",
   "metadata": {},
   "outputs": [],
   "source": [
    "import pandas as pd"
   ]
  },
  {
   "cell_type": "code",
   "execution_count": null,
   "id": "05556bc4-e42f-45ee-a2c4-a02741fc1ed1",
   "metadata": {},
   "outputs": [],
   "source": [
    "tasks = pd.read_csv('./tasks_rows.csv')\n",
    "topics = pd.read_csv('./topics_rows.csv')\n",
    "tasks_to_topics = pd.read_csv('./tasks_to_topics_rows.csv')"
   ]
  },
  {
   "cell_type": "code",
   "execution_count": null,
   "id": "d597e8c5-ebb2-410b-aa28-6a323e08a0b9",
   "metadata": {},
   "outputs": [],
   "source": [
    "tasks_to_topics"
   ]
  },
  {
   "cell_type": "code",
   "execution_count": null,
   "id": "17b0273a-269f-41a9-a769-1a1315f50667",
   "metadata": {},
   "outputs": [],
   "source": [
    "tasks"
   ]
  },
  {
   "cell_type": "code",
   "execution_count": null,
   "id": "c1483626-db5c-4d9d-b470-39ca581c93ba",
   "metadata": {},
   "outputs": [],
   "source": [
    "topics"
   ]
  },
  {
   "cell_type": "code",
   "execution_count": null,
   "id": "68bf3900-4033-4f11-8f6a-026fb3e11aba",
   "metadata": {},
   "outputs": [],
   "source": [
    "tasks.drop(columns=['metadata', 'data_hash', 'marked_for_deletion'], inplace=True)"
   ]
  },
  {
   "cell_type": "code",
   "execution_count": null,
   "id": "14a0b58c-5028-4124-88a8-90e0f33297fb",
   "metadata": {},
   "outputs": [],
   "source": [
    "tasks.iloc[0].task_data"
   ]
  },
  {
   "cell_type": "code",
   "execution_count": null,
   "id": "347c693a-892c-4b5d-a1a5-a2120c216263",
   "metadata": {},
   "outputs": [],
   "source": [
    "# russian is [13, 1]\n",
    "# bashkir is [1, 1]\n",
    "\n",
    "tasks[(tasks.language_object_id == 13) & (tasks.language_session_id == 1)]"
   ]
  },
  {
   "cell_type": "code",
   "execution_count": null,
   "id": "13603d38-92fc-49ad-8323-fad569aafd60",
   "metadata": {},
   "outputs": [],
   "source": [
    "topics[tasks_to_topics.task_object_id.isin(tasks[(tasks.language_object_id == 13) & (tasks.language_session_id == 1)]['object_id'])]"
   ]
  },
  {
   "cell_type": "code",
   "execution_count": null,
   "id": "1e95df17-785d-4690-bcec-d6f9d9ecbea3",
   "metadata": {},
   "outputs": [],
   "source": [
    "tasks_to_topics[(tasks_to_topics.task_object_id == 1202) & (tasks_to_topics.task_session_id == 359)]"
   ]
  },
  {
   "cell_type": "code",
   "execution_count": null,
   "id": "49ef32ce-ae84-400f-9a4e-16a3877f516c",
   "metadata": {},
   "outputs": [],
   "source": [
    "topics[(topics.object_id == 137) & (topics.session_id == 303)]"
   ]
  },
  {
   "cell_type": "code",
   "execution_count": null,
   "id": "fad6861a-d8b5-4f02-bcf1-22b92ba30391",
   "metadata": {},
   "outputs": [],
   "source": [
    "tasks_to_topics[\n",
    "    (\n",
    "        tasks_to_topics.task_object_id.isin(\n",
    "            tasks[(tasks.language_object_id == 13) & (tasks.language_session_id == 1)]['object_id']\n",
    "        )\n",
    "    ) & \n",
    "    (\n",
    "        tasks_to_topics.task_session_id.isin(\n",
    "            tasks[(tasks.language_object_id == 13) & (tasks.language_session_id == 1)]['session_id']\n",
    "        )\n",
    "    )\n",
    "    \n",
    "]"
   ]
  },
  {
   "cell_type": "code",
   "execution_count": null,
   "id": "d527b76a-4cda-4525-98c1-b6f88a8eb424",
   "metadata": {},
   "outputs": [],
   "source": [
    "tasks_to_topics[\n",
    "    (\n",
    "        tasks_to_topics.task_object_id.isin(\n",
    "            tasks[(tasks.language_object_id == 13) & (tasks.language_session_id == 1)]['object_id']\n",
    "        )\n",
    "    ) & \n",
    "    (\n",
    "        tasks_to_topics.task_session_id.isin(\n",
    "            tasks[(tasks.language_object_id == 13) & (tasks.language_session_id == 1)]['session_id']\n",
    "        )\n",
    "    )\n",
    "    \n",
    "]"
   ]
  },
  {
   "cell_type": "code",
   "execution_count": null,
   "id": "cbfdedbd-fe1a-471a-beed-48c9c2e2ecf6",
   "metadata": {},
   "outputs": [],
   "source": [
    "tmp = tasks_to_topics.merge(tasks, left_on=['task_object_id', 'task_session_id'], right_on=['object_id', 'session_id']).drop(columns=['object_id', 'session_id']).rename(columns={'type': 'task_type'})\n",
    "tmp"
   ]
  },
  {
   "cell_type": "code",
   "execution_count": null,
   "id": "5b0a4ea4-c96d-4def-b25b-01bb0059e127",
   "metadata": {
    "editable": true,
    "slideshow": {
     "slide_type": ""
    },
    "tags": []
   },
   "outputs": [],
   "source": [
    "all_data = tmp.merge(\n",
    "    topics, \n",
    "    left_on=[\n",
    "        'topic_object_id', \n",
    "        'topic_session_id',\n",
    "        'language_object_id',\n",
    "        'language_session_id',\n",
    "    ], \n",
    "    right_on=[\n",
    "        'object_id', \n",
    "        'session_id',\n",
    "        'language_object_id',\n",
    "        'language_session_id',\n",
    "    ]\n",
    ")\\\n",
    ".drop(\n",
    "    columns=[\n",
    "        'marked_for_deletion',\n",
    "        'object_id', \n",
    "        'session_id'\n",
    "    ]\n",
    ")\\\n",
    ".rename(\n",
    "    columns={\n",
    "        'name': 'topic_name', \n",
    "        'description': 'topic_description'}\n",
    ")\n",
    "all_data"
   ]
  },
  {
   "cell_type": "code",
   "execution_count": null,
   "id": "6de4f92b-5112-4e96-aabd-14b125c6ec02",
   "metadata": {},
   "outputs": [],
   "source": [
    "all_data[(all_data.language_object_id == 4) & (all_data.language_session_id == 1)]"
   ]
  },
  {
   "cell_type": "code",
   "execution_count": null,
   "id": "1fca5b37-19ad-4e32-a3a6-39277eccea2e",
   "metadata": {},
   "outputs": [],
   "source": [
    "all_data.task_type.unique()"
   ]
  },
  {
   "cell_type": "code",
   "execution_count": null,
   "id": "d64297ff-d45f-4f10-a1c5-0c24abc5b746",
   "metadata": {
    "editable": true,
    "slideshow": {
     "slide_type": ""
    },
    "tags": []
   },
   "outputs": [],
   "source": [
    "import numpy as np"
   ]
  },
  {
   "cell_type": "code",
   "execution_count": null,
   "id": "e713fa07-2b02-414d-8b71-93df712fd029",
   "metadata": {},
   "outputs": [],
   "source": [
    "np.random.Generator.choice(a=all_data.index, size=1)"
   ]
  },
  {
   "cell_type": "code",
   "execution_count": null,
   "id": "a59344df-670c-4859-897f-423c20346701",
   "metadata": {},
   "outputs": [],
   "source": [
    "all_data[(all_data.language_object_id == 13) & (all_data.language_session_id == 1)].sample(1)"
   ]
  },
  {
   "cell_type": "code",
   "execution_count": null,
   "id": "1c38f8b2-6e7c-4bdc-b7da-9ab7c2998a04",
   "metadata": {
    "editable": true,
    "slideshow": {
     "slide_type": ""
    },
    "tags": []
   },
   "outputs": [],
   "source": [
    "tasks = pd.read_csv('./tasks_rows_prod.csv')\n",
    "topics = pd.read_csv('./topics_rows_prod.csv')\n",
    "tasks_to_topics = pd.read_csv('./tasks_to_topics_rows_prod.csv')\n",
    "public_tasks = pd.read_csv('./public_tasks_rows_prod.csv')\n",
    "courses = pd.read_csv('./courses_rows_prod.csv')"
   ]
  },
  {
   "cell_type": "code",
   "execution_count": null,
   "id": "4268fc94-c90f-4f7d-811e-65a6ca4b1732",
   "metadata": {},
   "outputs": [],
   "source": [
    "tasks.drop(columns=['metadata', 'marked_for_deletion'], inplace=True)"
   ]
  },
  {
   "cell_type": "code",
   "execution_count": null,
   "id": "0ad52413-177e-46ee-afe6-f838c15d659f",
   "metadata": {},
   "outputs": [],
   "source": [
    "topics.drop(columns=['marked_for_deletion'], inplace=True)"
   ]
  },
  {
   "cell_type": "code",
   "execution_count": null,
   "id": "f7328db9-671b-42db-a566-f880d14257d3",
   "metadata": {},
   "outputs": [],
   "source": [
    "public_tasks.drop(columns=['metadata', 'marked_for_deletion'], inplace=True)"
   ]
  },
  {
   "cell_type": "code",
   "execution_count": null,
   "id": "419abfc8-f4d5-48c1-be29-6320158e5263",
   "metadata": {},
   "outputs": [],
   "source": [
    "courses.drop(columns=['metadata', 'marked_for_deletion'], inplace=True)"
   ]
  },
  {
   "cell_type": "code",
   "execution_count": null,
   "id": "28e1c351-caa0-4a02-a1c0-d9539abcf1bc",
   "metadata": {},
   "outputs": [],
   "source": [
    "courses.fillna('', inplace=True)"
   ]
  },
  {
   "cell_type": "code",
   "execution_count": null,
   "id": "c8dd765c-a352-4e28-b427-9db42fb7aa9e",
   "metadata": {},
   "outputs": [],
   "source": [
    "courses"
   ]
  },
  {
   "cell_type": "code",
   "execution_count": null,
   "id": "e5d5dcd8-4df6-499e-84eb-d7a31e28c53e",
   "metadata": {},
   "outputs": [],
   "source": [
    "public_tasks#"
   ]
  },
  {
   "cell_type": "code",
   "execution_count": null,
   "id": "00506eec-ea99-4f07-bb32-8f5541ce9cdf",
   "metadata": {},
   "outputs": [],
   "source": [
    "courses_full_data = courses.rename(columns={'object_id': 'course_object_id', 'session_id': 'course_session_id'}).merge(\n",
    "    public_tasks, \n",
    "    on=['course_object_id', 'course_session_id']\n",
    ").drop(columns=['session_id']).rename(\n",
    "    columns={\n",
    "        'name': 'course_name', \n",
    "        'order': 'course_order', \n",
    "        'description':'course_description'})\n",
    "courses_full_data"
   ]
  },
  {
   "cell_type": "code",
   "execution_count": null,
   "id": "137b25b6-1b79-4d28-982b-43c6397d094a",
   "metadata": {},
   "outputs": [],
   "source": [
    "courses"
   ]
  },
  {
   "cell_type": "code",
   "execution_count": null,
   "id": "a8e51681-a36b-4254-bf1d-2789b07e59cc",
   "metadata": {},
   "outputs": [],
   "source": [
    "tmp = tasks_to_topics.merge(tasks, left_on=['task_object_id', 'task_session_id'], right_on=['object_id', 'session_id']).drop(columns=['object_id', 'session_id']).rename(columns={'type': 'task_type'})\n",
    "tmp"
   ]
  },
  {
   "cell_type": "code",
   "execution_count": null,
   "id": "61d4ece4-4c55-4a14-9c4d-0adb7e5b00ba",
   "metadata": {},
   "outputs": [],
   "source": [
    "all_tasks_data = tmp.merge(\n",
    "    topics, \n",
    "    left_on=[\n",
    "        'topic_object_id', \n",
    "        'topic_session_id',\n",
    "        'language_object_id',\n",
    "        'language_session_id',\n",
    "    ], \n",
    "    right_on=[\n",
    "        'object_id', \n",
    "        'session_id',\n",
    "        'language_object_id',\n",
    "        'language_session_id',\n",
    "    ]\n",
    ")\\\n",
    ".drop(\n",
    "    columns=[\n",
    "        # 'marked_for_deletion',\n",
    "        'object_id', \n",
    "        'session_id'\n",
    "    ]\n",
    ")\\\n",
    ".rename(\n",
    "    columns={\n",
    "        'name': 'topic_name', \n",
    "        'description': 'topic_description'}\n",
    ")\n",
    "all_data"
   ]
  },
  {
   "cell_type": "code",
   "execution_count": null,
   "id": "e7692705-f64a-4e6a-a1e2-fdc3969edc22",
   "metadata": {},
   "outputs": [],
   "source": [
    "all_data = courses_full_data.merge(\n",
    "    all_tasks_data, \n",
    "    on=[\n",
    "        'task_object_id',\n",
    "        'task_session_id',\n",
    "        'language_object_id',\n",
    "        'language_session_id'\n",
    "    ]\n",
    ").fillna('')\n",
    "all_data"
   ]
  },
  {
   "cell_type": "code",
   "execution_count": null,
   "id": "bf417c41-68bb-41aa-94aa-e02ecdc69e10",
   "metadata": {},
   "outputs": [],
   "source": [
    "all_data.to_csv('./all_real_task_data.csv')"
   ]
  },
  {
   "cell_type": "code",
   "execution_count": null,
   "id": "934ae552-9c3f-4535-b9f7-cad11bd2b349",
   "metadata": {},
   "outputs": [],
   "source": []
  }
 ],
 "metadata": {
  "kernelspec": {
   "display_name": "Python 3 (ipykernel)",
   "language": "python",
   "name": "python3"
  },
  "language_info": {
   "codemirror_mode": {
    "name": "ipython",
    "version": 3
   },
   "file_extension": ".py",
   "mimetype": "text/x-python",
   "name": "python",
   "nbconvert_exporter": "python",
   "pygments_lexer": "ipython3",
   "version": "3.11.6"
  }
 },
 "nbformat": 4,
 "nbformat_minor": 5
}
